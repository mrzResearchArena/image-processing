{
 "cells": [
  {
   "cell_type": "code",
   "execution_count": 1,
   "id": "c1b5f2d4-a1e8-41b3-bf99-803542aeb3a6",
   "metadata": {
    "tags": []
   },
   "outputs": [],
   "source": [
    "import cv2\n",
    "import numpy as np\n",
    "from matplotlib import pyplot as plt"
   ]
  },
  {
   "cell_type": "code",
   "execution_count": 81,
   "id": "dbd41e83-38d7-467e-b3cc-a28dbb45f65d",
   "metadata": {
    "tags": []
   },
   "outputs": [],
   "source": [
    "# Resources:\n",
    "\n",
    "# https://stackoverflow.com/questions/52495105/wrong-colors-in-result-pyramid-blending-using-opencv-and-python\n",
    "# https://theailearner.com/tag/image-pyramids-opencv-python/"
   ]
  },
  {
   "cell_type": "code",
   "execution_count": 88,
   "id": "dff15847-85d5-4ecd-a208-bc0dd3a9548f",
   "metadata": {
    "tags": []
   },
   "outputs": [],
   "source": [
    "def pyramid(jetImage, cloudImage, maskImage, levels=1):\n",
    "#     A == jetImage\n",
    "#     B = cloudImage\n",
    "#     m = maskImage\n",
    "#     jetImage, , \n",
    "    \n",
    "    # Keep mask values between 0-1\n",
    "    maskImage = maskImage/255.0\n",
    "\n",
    "    # Copy the input images and mask\n",
    "    jet = jetImage[:,:,:] # GA\n",
    "    cloud = cloudImage[:,:,:] # GB\n",
    "    mask = maskImage[:,:,:] # GM\n",
    "\n",
    "    # Initialize Gaussian pyramids\n",
    "    gaussianPyramidJet   = [jet] # gpA\n",
    "    gaussianPyramidCloud = [cloud] #gpB\n",
    "    gaussianPyramidMask  = [mask] #gpM\n",
    "\n",
    "    # Build Gaussian Pyramids\n",
    "    for i in range(levels):\n",
    "        jet = cv2.pyrDown(jet)\n",
    "        cloud = cv2.pyrDown(cloud)\n",
    "        mask = cv2.pyrDown(mask)\n",
    "\n",
    "        gaussianPyramidJet.append(np.float32(jet))\n",
    "        gaussianPyramidCloud.append(np.float32(cloud))\n",
    "        gaussianPyramidMask.append(np.float32(mask))\n",
    "    #end-for\n",
    "\n",
    "    # Initialize Laplacian pyramids\n",
    "    laplacianPyramidJet = [gaussianPyramidJet[levels - 1]] # lpA\n",
    "    laplacianPyramidCloud = [gaussianPyramidCloud[levels - 1]] #lpB\n",
    "    laplacianPyramidMask = [gaussianPyramidMask[levels - 1]] #gpMr\n",
    "\n",
    "    # Build Laplacian pyramids\n",
    "    for i in range(levels - 1, 0, -1):\n",
    "        size = (gaussianPyramidJet[i - 1].shape[1], gaussianPyramidJet[i - 1].shape[0])\n",
    "\n",
    "        LA = np.subtract(gaussianPyramidJet[i - 1], cv2.pyrUp(gaussianPyramidJet[i], dstsize=size))\n",
    "        LB = np.subtract(gaussianPyramidCloud[i - 1], cv2.pyrUp(gaussianPyramidCloud[i], dstsize=size))\n",
    "\n",
    "        laplacianPyramidJet.append(LA)\n",
    "        laplacianPyramidCloud.append(LB)\n",
    "\n",
    "        laplacianPyramidMask.append(gaussianPyramidMask[i - 1])\n",
    "\n",
    "    # Image Blending: employing Laplacian pyramids\n",
    "    # https://www.cs.toronto.edu/~mangas/teaching/320/assignments/a3/\n",
    "    LS = []\n",
    "    for l_Jet, l_Cloud, l_Mask in zip(laplacianPyramidJet, laplacianPyramidCloud, laplacianPyramidMask):\n",
    "        ls = l_Jet * l_Mask + l_Cloud * (1.0 - l_Mask)\n",
    "        LS.append(ls)\n",
    "    #end-for\n",
    "\n",
    "    # reconstruct the blended image\n",
    "    ls = LS[0]\n",
    "    for i in range(1, levels):\n",
    "        size = (LS[i].shape[1], LS[i].shape[0])\n",
    "        ls = cv2.add(cv2.pyrUp(ls, dstsize=size), np.float32(LS[i]))\n",
    "\n",
    "        # Threshold controlling:\n",
    "        ls[ls > 255] = 255\n",
    "        ls[ls < 0]   = 0\n",
    "    #end-for\n",
    "    return ls\n",
    "#end-def"
   ]
  },
  {
   "cell_type": "code",
   "execution_count": 90,
   "id": "75ae0bda-5d22-4794-ae3d-0ca702224680",
   "metadata": {
    "tags": []
   },
   "outputs": [],
   "source": [
    "jetImage   = cv2.imread('jet.jpg')\n",
    "cloudImage = cv2.imread('cloud.jpg')\n",
    "maskImage  = cv2.imread('mask.jpg')\n",
    "\n",
    "for i in range(21):\n",
    "    output = pyramid(jetImage, cloudImage, maskImage, i)\n",
    "    cv2.imwrite(f'outputs/result_{i}.jpg', output)\n",
    "#end-for"
   ]
  },
  {
   "cell_type": "code",
   "execution_count": null,
   "id": "eecb8dc0-5fe7-48a6-b758-078e27289c8f",
   "metadata": {},
   "outputs": [],
   "source": []
  }
 ],
 "metadata": {
  "kernelspec": {
   "display_name": "Python 3 (ipykernel)",
   "language": "python",
   "name": "python3"
  },
  "language_info": {
   "codemirror_mode": {
    "name": "ipython",
    "version": 3
   },
   "file_extension": ".py",
   "mimetype": "text/x-python",
   "name": "python",
   "nbconvert_exporter": "python",
   "pygments_lexer": "ipython3",
   "version": "3.10.12"
  }
 },
 "nbformat": 4,
 "nbformat_minor": 5
}
