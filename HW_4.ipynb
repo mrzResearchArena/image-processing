{
 "cells": [
  {
   "cell_type": "code",
   "execution_count": 2,
   "id": "36d4777f-73b1-4f90-9a75-856b5fee903c",
   "metadata": {
    "tags": []
   },
   "outputs": [],
   "source": [
    "import cv2\n",
    "import numpy as np"
   ]
  },
  {
   "cell_type": "code",
   "execution_count": 4,
   "id": "8ff66533-b4f7-4461-aaf4-e7687cec67d5",
   "metadata": {
    "tags": []
   },
   "outputs": [
    {
     "name": "stderr",
     "output_type": "stream",
     "text": [
      "/tmp/ipykernel_88915/3840354551.py:7: DeprecationWarning: `np.int0` is a deprecated alias for `np.intp`.  (Deprecated NumPy 1.24)\n",
      "  corners = np.int0(corners)\n"
     ]
    },
    {
     "data": {
      "text/plain": [
       "True"
      ]
     },
     "execution_count": 4,
     "metadata": {},
     "output_type": "execute_result"
    }
   ],
   "source": [
    "img = cv2.imread(\"assets/shapes.png\")\n",
    "gray_img = cv2.cvtColor(img, cv2.COLOR_BGR2GRAY)\n",
    "\n",
    "# SHI-TOMASI METHOD\n",
    "corners = cv2.goodFeaturesToTrack(gray_img, maxCorners=50,\n",
    "                qualityLevel=0.15, minDistance=50)\n",
    "corners = np.int0(corners)\n",
    "\n",
    "for c in corners:\n",
    "    x, y = c.ravel()\n",
    "    img = cv2.circle(img, center=(x, y), radius=20, \n",
    "                    color=(0, 0, 255), thickness=-1)\n",
    "\n",
    "# # HARRIS CORNER DETECTION\n",
    "# corners = cv2.goodFeaturesToTrack(gray_img, maxCorners=50,\n",
    "#                 qualityLevel=0.01, minDistance=50,\n",
    "#                 useHarrisDetector=True, k=0.1)\n",
    "# corners = np.int0(corners)\n",
    "\n",
    "# for c in corners:\n",
    "#     x, y = c.ravel()\n",
    "#     img = cv2.circle(img, center=(x, y), radius=10, \n",
    "#                     color=(0, 254, 0), thickness=-1)\n",
    "\n",
    "cv2.imshow(\"Shape\", img)\n",
    "# cv2.waitKey(0)\n",
    "cv2.destroyAllWindows()\n",
    "\n",
    "cv2.imwrite(\"assets/5_shape_w_corners.png\", img)"
   ]
  },
  {
   "cell_type": "code",
   "execution_count": null,
   "id": "5d923b65-9f83-4c61-b9e2-092d936773d6",
   "metadata": {},
   "outputs": [],
   "source": [
    "# Function to apply Harris Corner Detector\n",
    "def harris_corner_detector(image):\n",
    "    gray = cv2.cvtColor(image, cv2.COLOR_BGR2GRAY)\n",
    "    gray = np.float32(gray)\n",
    "    \n",
    "    # Harris Corner Detector parameters\n",
    "    block_size = 2\n",
    "    ksize = 3\n",
    "    k = 0.04\n",
    "    \n",
    "    # Apply Harris Corner Detector\n",
    "    corners = cv2.cornerHarris(gray, block_size, ksize, k)\n",
    "    \n",
    "    # Thresholding\n",
    "    corners = cv2.threshold(corners, 0.01 * corners.max(), 255, 0)[1]\n",
    "    \n",
    "    # Find keypoints\n",
    "    keypoints = np.argwhere(corners > 0.01 * corners.max())\n",
    "    keypoints = [cv2.KeyPoint(x[1], x[0], 1) for x in keypoints]\n",
    "    \n",
    "    return keypoints\n",
    "\n",
    "# Apply Harris Corner Detector on both images\n",
    "keypoints_harris1 = harris_corner_detector(image1)\n",
    "# keypoints_harris2 = harris_corner_detector(image2)\n",
    "\n",
    "# Draw Harris corners on the images\n",
    "img_harris1 = cv2.drawKeypoints(image1, keypoints_harris1, None, color=(255, 0, 0), flags=0)\n",
    "# img_harris2 = cv2.drawKeypoints(image2, keypoints_harris2, None, color=(255, 0, 0), flags=0)\n",
    "\n",
    "# Display the images with Harris corners\n",
    "cv2.imshow(\"Harris Corners - Image 1\", img_harris1)\n",
    "# cv2.imshow(\"Harris Corners - Image 2\", img_harris2)\n",
    "# cv2.waitKey(0)\n",
    "cv2.destroyAllWindows()"
   ]
  }
 ],
 "metadata": {
  "kernelspec": {
   "display_name": "Python 3 (ipykernel)",
   "language": "python",
   "name": "python3"
  },
  "language_info": {
   "codemirror_mode": {
    "name": "ipython",
    "version": 3
   },
   "file_extension": ".py",
   "mimetype": "text/x-python",
   "name": "python",
   "nbconvert_exporter": "python",
   "pygments_lexer": "ipython3",
   "version": "3.10.12"
  }
 },
 "nbformat": 4,
 "nbformat_minor": 5
}
